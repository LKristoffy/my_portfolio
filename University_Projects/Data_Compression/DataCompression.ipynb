{
 "cells": [
  {
   "cell_type": "markdown",
   "metadata": {},
   "source": [
    "# CamZIP"
   ]
  },
  {
   "cell_type": "markdown",
   "metadata": {},
   "source": [
    "## Tree data structures"
   ]
  },
  {
   "cell_type": "markdown",
   "metadata": {},
   "source": [
    "Import all functions from the package trees where we put together a number of tools for handling trees in the 3F7 lab."
   ]
  },
  {
   "cell_type": "code",
   "execution_count": 1,
   "metadata": {},
   "outputs": [],
   "source": [
    "from trees import *"
   ]
  },
  {
   "cell_type": "markdown",
   "metadata": {},
   "source": [
    "Now define a simple tree (play around with this command and construct more complicated trees....)"
   ]
  },
  {
   "cell_type": "code",
   "execution_count": 2,
   "metadata": {},
   "outputs": [],
   "source": [
    "t = [-1,0,1,1,0]"
   ]
  },
  {
   "cell_type": "markdown",
   "metadata": {},
   "source": [
    "The following command will print a string that can be copy-pasted into a tree visualising website like [phylo.io](https://phylo.io) (don't forget to add a new line at the end of the string after cutting and pasting)"
   ]
  },
  {
   "cell_type": "code",
   "execution_count": 3,
   "metadata": {},
   "outputs": [
    {
     "name": "stdout",
     "output_type": "stream",
     "text": [
      "((1000,1001)1004,1002)1003\n",
      "Cut and paste the string on the previous line and add a \"new line\" at the end of the string.\n"
     ]
    }
   ],
   "source": [
    "print(tree2newick(t))\n",
    "print('Cut and paste the string on the previous line and add a \"new line\" at the end of the string.')"
   ]
  },
  {
   "cell_type": "markdown",
   "metadata": {},
   "source": [
    "You can also add labels to the nodes in the `tree2newick` command."
   ]
  },
  {
   "cell_type": "code",
   "execution_count": 4,
   "metadata": {},
   "outputs": [
    {
     "name": "stdout",
     "output_type": "stream",
     "text": [
      "((grandchild 0,grandchild 1)child 0,child 1)root\n"
     ]
    }
   ],
   "source": [
    "print(tree2newick(t,['root', 'child 0', 'grandchild 0', 'grandchild 1', 'child 1']))"
   ]
  },
  {
   "cell_type": "markdown",
   "metadata": {},
   "source": [
    "If there are less labels than nodes, the labels will be interpreted \"leaves first\""
   ]
  },
  {
   "cell_type": "code",
   "execution_count": 5,
   "metadata": {},
   "outputs": [
    {
     "name": "stdout",
     "output_type": "stream",
     "text": [
      "((symbol 0,symbol 1)1004,symbol 2)1003\n"
     ]
    }
   ],
   "source": [
    "print(tree2newick(t,['symbol 0','symbol 1', 'symbol 2']))"
   ]
  },
  {
   "cell_type": "markdown",
   "metadata": {},
   "source": [
    "The following command converts a variable-length code described by a tree to a code table format."
   ]
  },
  {
   "cell_type": "code",
   "execution_count": 6,
   "metadata": {
    "scrolled": true
   },
   "outputs": [
    {
     "name": "stdout",
     "output_type": "stream",
     "text": [
      "{'1000': [0, 0], '1001': [0, 1], '1002': [1]}\n"
     ]
    }
   ],
   "source": [
    "print(tree2code(t))"
   ]
  },
  {
   "cell_type": "markdown",
   "metadata": {},
   "source": [
    "Verify that the inverse function can recover the tree. "
   ]
  },
  {
   "cell_type": "code",
   "execution_count": 7,
   "metadata": {},
   "outputs": [
    {
     "name": "stdout",
     "output_type": "stream",
     "text": [
      "[-1, 0, 1, 1, 0]\n"
     ]
    }
   ],
   "source": [
    "print(code2tree(tree2code(t)))"
   ]
  },
  {
   "cell_type": "markdown",
   "metadata": {},
   "source": [
    "But the following may happen as well. Can you explain why?"
   ]
  },
  {
   "cell_type": "code",
   "execution_count": 8,
   "metadata": {},
   "outputs": [
    {
     "name": "stdout",
     "output_type": "stream",
     "text": [
      "[-1, 0, 1, 1, 0]\n"
     ]
    }
   ],
   "source": [
    "print(code2tree(tree2code([3,3,4,4,-1])))"
   ]
  },
  {
   "cell_type": "code",
   "execution_count": 9,
   "metadata": {},
   "outputs": [
    {
     "name": "stdout",
     "output_type": "stream",
     "text": [
      "(child 0,(grandchild 0,grandchild 1)child 1)root\n"
     ]
    }
   ],
   "source": [
    "print(tree2newick([3,3,4,4,-1], ['grandchild 0', 'grandchild 1', 'child 0', 'child 1', 'root']))"
   ]
  },
  {
   "cell_type": "markdown",
   "metadata": {},
   "source": [
    "Similarly but far more problematic is the following inversion. The resulting assignment of codeword to symbols is fundamentally different from the original and would result in wrong decoding."
   ]
  },
  {
   "cell_type": "code",
   "execution_count": 10,
   "metadata": {},
   "outputs": [
    {
     "name": "stdout",
     "output_type": "stream",
     "text": [
      "{'1000': [0], '1001': [1, 0], '1002': [1, 1, 0], '1003': [1, 1, 1]}\n"
     ]
    }
   ],
   "source": [
    "print(tree2code(code2tree({'0':[1], '1':[0,1], '2':[0,0,1], '3':[0,0,0]})))"
   ]
  },
  {
   "cell_type": "markdown",
   "metadata": {},
   "source": [
    "These problems are all solved when using the extended tree format."
   ]
  },
  {
   "cell_type": "code",
   "execution_count": 11,
   "metadata": {},
   "outputs": [
    {
     "name": "stdout",
     "output_type": "stream",
     "text": [
      "(c,(a,b)1003)1004\n",
      "[[3, [], 'a'], [3, [], 'b'], [4, [], 'c'], [4, [0, 1], '1003'], [-1, [2, 3], '1004']]\n",
      "1004\n"
     ]
    }
   ],
   "source": [
    "xt = tree2xtree([3,3,4,4,-1], ['a', 'b', 'c'])\n",
    "print(xtree2newick(xt))\n",
    "print(xt)\n",
    "print(xt[4][2])"
   ]
  },
  {
   "cell_type": "code",
   "execution_count": 12,
   "metadata": {},
   "outputs": [
    {
     "name": "stdout",
     "output_type": "stream",
     "text": [
      "{'0': [1], '1': [0, 1], '2': [0, 0, 1], '3': [0, 0, 0]}\n"
     ]
    }
   ],
   "source": [
    "print(xtree2code(code2xtree({'0':[1], '1':[0,1], '2':[0,0,1], '3':[0,0,0]})))\n"
   ]
  },
  {
   "cell_type": "markdown",
   "metadata": {},
   "source": [
    "## Testing your Shannon-Fano Code"
   ]
  },
  {
   "cell_type": "markdown",
   "metadata": {},
   "source": [
    "This next section can only be completed once you have a working Shannon-Fano function `shannon_fano()`"
   ]
  },
  {
   "cell_type": "code",
   "execution_count": 13,
   "metadata": {},
   "outputs": [
    {
     "name": "stdout",
     "output_type": "stream",
     "text": [
      "Probability distribution: {'a': 0.04239428986168972, 'b': 0.1413928108090173, 'c': 0.11793634351222965, 'd': 0.15987119465592425, 'e': 0.12919836117452208, 'f': 0.12464793958171358, 'g': 0.08256411296684028, 'h': 0.140297926049496, 'i': 0.011608654352364587, 'j': 0.05008836703620239}\n",
      "\n",
      "Codebook: {'a': [0, 0, 1, 1, 1], 'b': [1, 1, 0], 'c': [0, 1, 0], 'd': [1, 1, 1], 'e': [1, 0, 0], 'f': [0, 1, 1], 'g': [0, 0, 0], 'h': [1, 0, 1], 'i': [0, 0, 1, 1, 0], 'j': [0, 0, 1, 0]}\n",
      "\n",
      "Cut and paste for phylo.io: (((g,(j,(i,a)10)11)12,(c,f)13)16,((e,h)14,(b,d)15)17)18\n",
      "Probability distribution: {'a': 0.08810244334017629, 'b': 0.0009933154376389943, 'c': 0.08752882334448035, 'd': 0.06536610798757081, 'e': 0.062008622431748414, 'f': 0.06176557752946635, 'g': 0.06443848446426129, 'h': 0.09771859966702921, 'i': 0.05097241066272622, 'j': 0.057015220181369584, 'k': 0.0548424117038805, 'l': 0.02933880129563677, 'm': 0.0950378454617218, 'n': 0.059405460381843356, 'o': 0.06356543370676078, 'p': 0.06190044240368942}\n",
      "\n",
      "Codebook: {'h': [0, 0, 0, 0], 'm': [0, 0, 0, 1], 'a': [0, 0, 1, 1], 'c': [0, 1, 0, 0], 'd': [0, 1, 0, 1], 'g': [0, 1, 1, 0], 'o': [0, 1, 1, 1], 'e': [1, 0, 0, 0, 1], 'p': [1, 0, 0, 1, 1], 'f': [1, 0, 1, 0, 1], 'n': [1, 0, 1, 1, 1], 'j': [1, 1, 0, 0, 1], 'k': [1, 1, 0, 1, 1], 'i': [1, 1, 1, 0, 1], 'l': [1, 1, 1, 1, 1, 0], 'b': [1, 1, 1, 1, 1, 1, 1, 1, 1, 0]}\n",
      "\n",
      "Cut and paste for phylo.io: ((((h,m)3,(a)4)2,((c,d)6,(g,o)7)5)1,((((e)11,(p)12)10,((f)14,(n)15)13)9,(((j)18,(k)19)17,((i)21,((l,((((b)27)26)25)24)23)22)20)16)8)0\n"
     ]
    }
   ],
   "source": [
    "from vl_codes import shannon_fano\n",
    "from random import random\n",
    "p = [random() for k in range(16)]\n",
    "p = dict([(chr(k+ord('a')),p[k]/sum(p)) for k in range(len(p))])\n",
    "print(f'Probability distribution: {p}\\n')\n",
    "c = shannon_fano(p)\n",
    "print(f'Codebook: {c}\\n')\n",
    "xt = code2xtree(c)\n",
    "print(f'Cut and paste for phylo.io: {xtree2newick(xt)}')"
   ]
  },
  {
   "cell_type": "markdown",
   "metadata": {},
   "source": [
    "We can upload data from a file, for example `hamlet.txt`, and display the first few lines..."
   ]
  },
  {
   "cell_type": "code",
   "execution_count": 14,
   "metadata": {},
   "outputs": [
    {
     "name": "stdout",
     "output_type": "stream",
     "text": [
      "        HAMLET\n",
      "\n",
      "\n",
      "        DRAMATIS PERSONAE\n",
      "\n",
      "\n",
      "CLAUDIUS        king of Denmark. (KING CLAUDIUS:)\n",
      "\n",
      "HAMLET  son to the late, and nephew to the present king.\n",
      "\n",
      "POLONIUS        lord chamberlain. (LORD POLONIUS:)\n",
      "\n",
      "HORATIO friend to Hamlet.\n",
      "\n",
      "LAERTES son to Polonius.\n",
      "\n",
      "LUCIANUS        nephew to the king.\n"
     ]
    }
   ],
   "source": [
    "f = open('hamlet.txt', 'r')\n",
    "hamlet = f.read()\n",
    "f.close()\n",
    "print(hamlet[:294])"
   ]
  },
  {
   "cell_type": "markdown",
   "metadata": {},
   "source": [
    "We now compute the startistics of the file:"
   ]
  },
  {
   "cell_type": "code",
   "execution_count": 15,
   "metadata": {},
   "outputs": [
    {
     "name": "stdout",
     "output_type": "stream",
     "text": [
      "207039\n",
      "File length: 207039\n"
     ]
    }
   ],
   "source": [
    "from itertools import groupby\n",
    "frequencies = dict([(key, len(list(group))) for key, group in groupby(sorted(hamlet))])\n",
    "Nin = sum([frequencies[a] for a in frequencies])\n",
    "print(Nin)\n",
    "p = dict([(a,frequencies[a]/Nin) for a in frequencies])\n",
    "print(f'File length: {Nin}')"
   ]
  },
  {
   "cell_type": "markdown",
   "metadata": {},
   "source": [
    "We can view the alphabet of symbols used in the file:"
   ]
  },
  {
   "cell_type": "code",
   "execution_count": 16,
   "metadata": {},
   "outputs": [
    {
     "name": "stdout",
     "output_type": "stream",
     "text": [
      "['\\n', ' ', '!', '&', \"'\", '(', ')', ',', '-', '.', ':', ';', '?', 'A', 'B', 'C', 'D', 'E', 'F', 'G', 'H', 'I', 'J', 'K', 'L', 'M', 'N', 'O', 'P', 'Q', 'R', 'S', 'T', 'U', 'V', 'W', 'Y', 'Z', '[', ']', 'a', 'b', 'c', 'd', 'e', 'f', 'g', 'h', 'i', 'j', 'k', 'l', 'm', 'n', 'o', 'p', 'q', 'r', 's', 't', 'u', 'v', 'w', 'x', 'y', 'z', '|']\n",
      "67\n"
     ]
    }
   ],
   "source": [
    "print(list(p))\n",
    "print(len(p))"
   ]
  },
  {
   "cell_type": "markdown",
   "metadata": {},
   "source": [
    "We are now ready to construct the Shannon-Fano code for this file, and view its tree (cut and paste into [phylo.io](https://phylo.io), don't forget to add a carriage return at the end, click on \"Branch Labels/Support\" under \"Settings\", then right-click on the root of the tree and select \"expand all\". "
   ]
  },
  {
   "cell_type": "code",
   "execution_count": 46,
   "metadata": {},
   "outputs": [
    {
     "name": "stdout",
     "output_type": "stream",
     "text": [
      "67\n",
      "{' ': [0, 0], 'e': [0, 1, 0, 0], 't': [0, 1, 0, 1, 0], 'o': [0, 1, 1, 0, 0], 'a': [0, 1, 1, 1, 0], 's': [0, 1, 1, 1, 1], 'n': [1, 0, 0, 0, 0], 'h': [1, 0, 0, 1, 0], 'i': [1, 0, 0, 1, 1], 'r': [1, 0, 1, 0, 0], '\\n': [1, 0, 1, 0, 1, 1], 'l': [1, 0, 1, 1, 0, 0], 'd': [1, 0, 1, 1, 1, 0], 'u': [1, 1, 0, 0, 0, 0], 'm': [1, 1, 0, 0, 0, 1], ',': [1, 1, 0, 0, 1, 0], 'y': [1, 1, 0, 0, 1, 1, 1], 'w': [1, 1, 0, 1, 0, 0, 1], 'f': [1, 1, 0, 1, 0, 1, 0], 'c': [1, 1, 0, 1, 1, 0, 0], 'g': [1, 1, 0, 1, 1, 0, 1], 'p': [1, 1, 0, 1, 1, 1, 0], 'A': [1, 1, 1, 0, 0, 0, 0, 0], 'b': [1, 1, 1, 0, 0, 0, 1, 0], 'T': [1, 1, 1, 0, 0, 0, 1, 1], 'I': [1, 1, 1, 0, 0, 1, 0, 1], 'E': [1, 1, 1, 0, 0, 1, 1, 1], '.': [1, 1, 1, 0, 1, 0, 0, 1], 'L': [1, 1, 1, 0, 1, 0, 1, 1], 'v': [1, 1, 1, 0, 1, 1, 0, 0], 'k': [1, 1, 1, 0, 1, 1, 1, 0], 'O': [1, 1, 1, 0, 1, 1, 1, 1], \"'\": [1, 1, 1, 1, 0, 0, 0, 0], 'H': [1, 1, 1, 1, 0, 0, 1, 0], 'R': [1, 1, 1, 1, 0, 0, 1, 1], 'N': [1, 1, 1, 1, 0, 1, 0, 0], 'S': [1, 1, 1, 1, 0, 1, 0, 1, 0], 'U': [1, 1, 1, 1, 0, 1, 1, 0, 0], 'M': [1, 1, 1, 1, 0, 1, 1, 1, 0], ';': [1, 1, 1, 1, 1, 0, 0, 0, 0], ':': [1, 1, 1, 1, 1, 0, 0, 0, 1], 'D': [1, 1, 1, 1, 1, 0, 0, 1, 0], 'C': [1, 1, 1, 1, 1, 0, 1, 0, 0], 'G': [1, 1, 1, 1, 1, 0, 1, 0, 1], 'W': [1, 1, 1, 1, 1, 0, 1, 1, 0], '?': [1, 1, 1, 1, 1, 0, 1, 1, 1], '-': [1, 1, 1, 1, 1, 1, 0, 0, 0], 'P': [1, 1, 1, 1, 1, 1, 0, 0, 1, 1], '!': [1, 1, 1, 1, 1, 1, 0, 1, 0, 0], '[': [1, 1, 1, 1, 1, 1, 0, 1, 1, 0], ']': [1, 1, 1, 1, 1, 1, 0, 1, 1, 1], 'B': [1, 1, 1, 1, 1, 1, 1, 0, 0, 0], 'F': [1, 1, 1, 1, 1, 1, 1, 0, 0, 1], 'x': [1, 1, 1, 1, 1, 1, 1, 0, 1, 1, 0], 'K': [1, 1, 1, 1, 1, 1, 1, 0, 1, 1, 1], 'q': [1, 1, 1, 1, 1, 1, 1, 1, 0, 0, 1], 'Y': [1, 1, 1, 1, 1, 1, 1, 1, 0, 1, 0], 'j': [1, 1, 1, 1, 1, 1, 1, 1, 0, 1, 1, 1], 'Q': [1, 1, 1, 1, 1, 1, 1, 1, 1, 0, 0, 1], 'Z': [1, 1, 1, 1, 1, 1, 1, 1, 1, 0, 1, 0], 'z': [1, 1, 1, 1, 1, 1, 1, 1, 1, 1, 0, 0], '|': [1, 1, 1, 1, 1, 1, 1, 1, 1, 1, 0, 1, 0], 'V': [1, 1, 1, 1, 1, 1, 1, 1, 1, 1, 1, 0, 0], '(': [1, 1, 1, 1, 1, 1, 1, 1, 1, 1, 1, 1, 0, 0], ')': [1, 1, 1, 1, 1, 1, 1, 1, 1, 1, 1, 1, 0, 1], 'J': [1, 1, 1, 1, 1, 1, 1, 1, 1, 1, 1, 1, 1, 0, 1], '&': [1, 1, 1, 1, 1, 1, 1, 1, 1, 1, 1, 1, 1, 1, 1, 0]}\n",
      "16\n",
      "67\n",
      "[[-1, [1, 14], '0'], [0, [2, 3], '1'], [1, [], ' '], [1, [4, 8], '2'], [3, [5, 6], '3'], [4, [], 'e'], [4, [7], '4'], [6, [], 't'], [3, [9, 11], '5'], [8, [10], '6'], [9, [], 'o'], [8, [12, 13], '7'], [11, [], 'a'], [11, [], 's'], [0, [15, 32], '8'], [14, [16, 22], '9'], [15, [17, 19], '10'], [16, [18], '11'], [17, [], 'n'], [16, [20, 21], '12'], [19, [], 'h'], [19, [], 'i'], [15, [23, 27], '13'], [22, [24, 25], '14'], [23, [], 'r'], [23, [-1, 26], '15'], [25, [], '\\n'], [22, [28, 30], '16'], [27, [29], '17'], [28, [], 'l'], [27, [31], '18'], [30, [], 'd'], [14, [33, 54], '19'], [32, [34, 42], '20'], [33, [35, 38], '21'], [34, [36, 37], '22'], [35, [], 'u'], [35, [], 'm'], [34, [39, 40], '23'], [38, [], ','], [38, [-1, 41], '24'], [40, [], 'y'], [33, [43, 48], '25'], [42, [44, 46], '26'], [43, [-1, 45], '27'], [44, [], 'w'], [43, [47], '28'], [46, [], 'f'], [42, [49, 52], '29'], [48, [50, 51], '30'], [49, [], 'c'], [49, [], 'g'], [48, [53], '31'], [52, [], 'p'], [32, [55, 80], '32'], [54, [56, 68], '33'], [55, [57, 63], '34'], [56, [58, 60], '35'], [57, [59], '36'], [58, [], 'A'], [57, [61, 62], '37'], [60, [], 'b'], [60, [], 'T'], [56, [64, 66], '38'], [63, [-1, 65], '39'], [64, [], 'I'], [63, [-1, 67], '40'], [66, [], 'E'], [55, [69, 74], '41'], [68, [70, 72], '42'], [69, [-1, 71], '43'], [70, [], '.'], [69, [-1, 73], '44'], [72, [], 'L'], [68, [75, 77], '45'], [74, [76], '46'], [75, [], 'v'], [74, [78, 79], '47'], [77, [], 'k'], [77, [], 'O'], [54, [81, 98], '48'], [80, [82, 88], '49'], [81, [83, 85], '50'], [82, [84], '51'], [83, [], \"'\"], [82, [86, 87], '52'], [85, [], 'H'], [85, [], 'R'], [81, [89, 93], '53'], [88, [90, 91], '54'], [89, [], 'N'], [89, [92], '55'], [91, [], 'S'], [88, [94, 96], '56'], [93, [95], '57'], [94, [], 'U'], [93, [97], '58'], [96, [], 'M'], [80, [99, 113], '59'], [98, [100, 106], '60'], [99, [101, 104], '61'], [100, [102, 103], '62'], [101, [], ';'], [101, [], ':'], [100, [105], '63'], [104, [], 'D'], [99, [107, 110], '64'], [106, [108, 109], '65'], [107, [], 'C'], [107, [], 'G'], [106, [111, 112], '66'], [110, [], 'W'], [110, [], '?'], [98, [114, 125], '67'], [113, [115, 119], '68'], [114, [116, 117], '69'], [115, [], '-'], [115, [-1, 118], '70'], [117, [], 'P'], [114, [120, 122], '71'], [119, [121], '72'], [120, [], '!'], [119, [123, 124], '73'], [122, [], '['], [122, [], ']'], [113, [126, 134], '74'], [125, [127, 130], '75'], [126, [128, 129], '76'], [127, [], 'B'], [127, [], 'F'], [126, [-1, 131], '77'], [130, [132, 133], '78'], [131, [], 'x'], [131, [], 'K'], [125, [135, 142], '79'], [134, [136, 138], '80'], [135, [-1, 137], '81'], [136, [], 'q'], [135, [139, 140], '82'], [138, [], 'Y'], [138, [-1, 141], '83'], [140, [], 'j'], [134, [143, 148], '84'], [142, [144, 146], '85'], [143, [-1, 145], '86'], [144, [], 'Q'], [143, [147], '87'], [146, [], 'Z'], [142, [149, 153], '88'], [148, [150, 151], '89'], [149, [], 'z'], [149, [152], '90'], [151, [], '|'], [148, [154, 156], '91'], [153, [155], '92'], [154, [], 'V'], [153, [157, 160], '93'], [156, [158, 159], '94'], [157, [], '('], [157, [], ')'], [156, [161, 163], '95'], [160, [-1, 162], '96'], [161, [], 'J'], [160, [-1, 164], '97'], [163, [165], '98'], [164, [], '&']]\n",
      "166\n",
      "((space,((e,(t)4)3,((o)6,(a,s)7)5)2)1,((((n)11,(h,i)12)10,((r,(carriage return)15)14,((l)17,(d)18)16)13)9,((((u,m)22,(comma,(y)24)23)21,(((w)27,(f)28)26,((c,g)30,(p)31)29)25)20,(((((A)36,(b,T)37)35,((I)39,(E)40)38)34,(((.)43,(L)44)42,((v)46,(k,O)47)45)41)33,((((')51,(H,R)52)50,((N,(S)55)54,((U)57,(M)58)56)53)49,((((semi-colon,colon)62,(D)63)61,((C,G)65,(W,?)66)64)60,(((-,(P)70)69,((!)72,(left square bracket,right square bracket)73)71)68,(((B,F)76,((x,K)78)77)75,(((q)81,(Y,(j)83)82)80,(((Q)86,(Z)87)85,((z,(vertical bar)90)89,((V)92,((left parenthesis,right parenthesis)94,((J)96,((&)98)97)95)93)91)88)84)79)74)67)59)48)32)19)8)0\n",
      "16\n"
     ]
    }
   ],
   "source": [
    "c = shannon_fano(p)\n",
    "print(len(c))\n",
    "count=0\n",
    "\n",
    "xt = code2xtree(c)\n",
    "for i in xt:\n",
    "    if len(i[1]) == 0:\n",
    "        count += 1\n",
    "    else:\n",
    "        pass\n",
    "print(c)\n",
    "print(len(c['&']))\n",
    "\n",
    "print(count)\n",
    "print(xt)\n",
    "print(len(xt))\n",
    "print(xtree2newick(xt))\n",
    "print(len(c['&']))"
   ]
  },
  {
   "cell_type": "markdown",
   "metadata": {},
   "source": [
    "Now we can actually encode the file `hamlet.txt` using the Shannon-Fano code we constructed."
   ]
  },
  {
   "cell_type": "code",
   "execution_count": 18,
   "metadata": {},
   "outputs": [
    {
     "name": "stdout",
     "output_type": "stream",
     "text": [
      "Length of binary sequence: 997548\n"
     ]
    }
   ],
   "source": [
    "from vl_codes import vl_encode\n",
    "hamlet_sf = vl_encode(hamlet, c)\n",
    "print(f'Length of binary sequence: {len(hamlet_sf)}')"
   ]
  },
  {
   "cell_type": "markdown",
   "metadata": {},
   "source": [
    "We have commands to convert a bit sequence into a byte sequence (including a 3 bit prefix that helps us determine the length of the bit sequence):"
   ]
  },
  {
   "cell_type": "code",
   "execution_count": 19,
   "metadata": {},
   "outputs": [
    {
     "name": "stdout",
     "output_type": "stream",
     "text": [
      "['01101000']\n",
      "The original bits are: [0, 1]\n",
      "[141, 128]\n"
     ]
    }
   ],
   "source": [
    "from vl_codes import bytes2bits, bits2bytes\n",
    "x = bits2bytes([0,1])\n",
    "print([format(a, '08b') for a in x])\n",
    "y = bytes2bits(x)\n",
    "print(f'The original bits are: {y}')\n",
    "print(bits2bytes([0,1,1,0,1,1,0,0,0]))"
   ]
  },
  {
   "cell_type": "markdown",
   "metadata": {},
   "source": [
    "We now apply the bits to byte conversion to the compressed text of Hamlet to compute the length of the compressed file."
   ]
  },
  {
   "cell_type": "code",
   "execution_count": 20,
   "metadata": {},
   "outputs": [
    {
     "name": "stdout",
     "output_type": "stream",
     "text": [
      "Length of compressed string: 124694\n"
     ]
    }
   ],
   "source": [
    "hamlet_zipped = bits2bytes(hamlet_sf)\n",
    "Nout = len(hamlet_zipped)\n",
    "print(f'Length of compressed string: {Nout}')"
   ]
  },
  {
   "cell_type": "markdown",
   "metadata": {},
   "source": [
    "The compression ratio can be expressed in two ways, unitless or in bits/bytes:"
   ]
  },
  {
   "cell_type": "code",
   "execution_count": 21,
   "metadata": {},
   "outputs": [
    {
     "name": "stdout",
     "output_type": "stream",
     "text": [
      "Compression ratio (rateless): 0.6022730017049928\n",
      "Compression ratio (bits per byte): 4.818184013639942\n"
     ]
    }
   ],
   "source": [
    "print(f'Compression ratio (rateless): {Nout/Nin}')\n",
    "print(f'Compression ratio (bits per byte): {8.0*Nout/Nin}')"
   ]
  },
  {
   "cell_type": "markdown",
   "metadata": {},
   "source": [
    "The lower bound for compression is the Entropy, measured in bits, that can be computed using an in-line function in Python:"
   ]
  },
  {
   "cell_type": "code",
   "execution_count": 22,
   "metadata": {},
   "outputs": [
    {
     "name": "stdout",
     "output_type": "stream",
     "text": [
      "Entropy: 4.449863631694343\n"
     ]
    }
   ],
   "source": [
    "from math import log2\n",
    "H = lambda pr: -sum([pr[a]*log2(pr[a]) for a in pr])\n",
    "print(f'Entropy: {H(p)}')"
   ]
  },
  {
   "cell_type": "markdown",
   "metadata": {},
   "source": [
    "We now proceed to decode the compressed Hamlet sequence"
   ]
  },
  {
   "cell_type": "code",
   "execution_count": 23,
   "metadata": {},
   "outputs": [
    {
     "name": "stdout",
     "output_type": "stream",
     "text": [
      "Length of unzipped file: 207039\n"
     ]
    }
   ],
   "source": [
    "from vl_codes import vl_decode\n",
    "xt = code2xtree(c)\n",
    "hamlet_unzipped = vl_decode(hamlet_sf, xt)\n",
    "print(f'Length of unzipped file: {len(hamlet_unzipped)}')"
   ]
  },
  {
   "cell_type": "markdown",
   "metadata": {},
   "source": [
    "We can view the first few lines of the input (note the command `join` that turns the list of strings into one string)"
   ]
  },
  {
   "cell_type": "code",
   "execution_count": 24,
   "metadata": {},
   "outputs": [
    {
     "name": "stdout",
     "output_type": "stream",
     "text": [
      "        HAMLET\n",
      "\n",
      "\n",
      "        DRAMATIS PERSONAE\n",
      "\n",
      "\n",
      "CLAUDIUS        king of Denmark. (KING CLAUDIUS:)\n",
      "\n",
      "HAMLET  son to the late, and nephew to the present king.\n",
      "\n",
      "POLONIUS        lord chamberlain. (LORD POLONIUS:)\n",
      "\n",
      "HORATIO friend to Hamlet.\n",
      "\n",
      "LAERTES son to Polonius.\n",
      "\n",
      "LUCIANUS        nephew to the king.\n"
     ]
    }
   ],
   "source": [
    "print(''.join(hamlet_unzipped[:294]))"
   ]
  },
  {
   "cell_type": "markdown",
   "metadata": {},
   "source": [
    "## Compressing and uncompressing files"
   ]
  },
  {
   "cell_type": "markdown",
   "metadata": {},
   "source": [
    "This is where we put it all together, compressing directly from input to output file. Play around with these commands once you implemented Huffman coding and arithmetic coding. We begin by importing the compression and decompression functions."
   ]
  },
  {
   "cell_type": "code",
   "execution_count": 25,
   "metadata": {},
   "outputs": [
    {
     "name": "stdout",
     "output_type": "stream",
     "text": [
      "Probability distribution: {'a': 0.01338227872264756, 'b': 0.11436312083570961, 'c': 0.1740808557262424, 'd': 0.05034990240579951, 'e': 0.20166850345777199, 'f': 0.048096567102601955, 'g': 0.21305915301485603, 'h': 0.042224049469473966, 'i': 0.044798325028058104, 'j': 0.0979772442368389}\n",
      "\n",
      "{'a': 0, 'b': 0.01338227872264756, 'c': 0.12774539955835718, 'd': 0.3018262552845996, 'e': 0.3521761576903991, 'f': 0.5538446611481711, 'g': 0.601941228250773, 'h': 0.815000381265629, 'i': 0.857224430735103, 'j': 0.9020227557631612}\n",
      "[1, 1, 1, 0, 0, 1, 1, 1, 0, 1, 0, 0, 1, 0, 1, 1, 1, 1, 1, 1, 1, 1, 0, 0, 0, 1, 0, 1, 0, 0, 0, 0, 0, 1, 0, 1, 1, 1, 1, 1, 1, 1, 1, 1, 0, 1, 0, 1, 0, 0, 1, 0, 0, 1, 0, 0, 1, 1, 1, 1, 0, 0, 1, 0, 1, 1, 1, 1, 1, 1, 0, 1, 0, 0, 1, 1, 0, 1, 1]\n",
      "['j', 'b', 'b', 'b', 'b', 'b', 'a', 'b', 'd', 'e', 'f', 'g', 'h', 'i', 'd', 'e', 'f', 'g', 'a', 'b', 'f']\n"
     ]
    }
   ],
   "source": [
    "from camzip import camzip\n",
    "from camunzip import camunzip"
   ]
  },
  {
   "cell_type": "markdown",
   "metadata": {},
   "source": [
    "The next commands define the method to be used and the filename. Modify those when you are trying other methods on various files. "
   ]
  },
  {
   "cell_type": "code",
   "execution_count": 26,
   "metadata": {},
   "outputs": [],
   "source": [
    "method = 'shannon_fano'\n",
    "filename = 'hamlet.txt'"
   ]
  },
  {
   "cell_type": "markdown",
   "metadata": {},
   "source": [
    "Now we do the actual compression and decompression..."
   ]
  },
  {
   "cell_type": "code",
   "execution_count": 27,
   "metadata": {},
   "outputs": [],
   "source": [
    "camzip(method, filename)\n",
    "camunzip(filename + '.cz' + method[0])"
   ]
  },
  {
   "cell_type": "markdown",
   "metadata": {},
   "source": [
    "The next few lines perform various statistical measurements and verifies that the decompressed file is identical to the compressed file."
   ]
  },
  {
   "cell_type": "code",
   "execution_count": 28,
   "metadata": {},
   "outputs": [
    {
     "name": "stdout",
     "output_type": "stream",
     "text": [
      "Length of original file: 207039 bytes\n",
      "Length of compressed file: 124694 bytes\n",
      "Compression rate: 4.818184013639942 bits/byte\n",
      "Entropy: 4.449863631694343 bits per symbol\n",
      "The two files are the same\n"
     ]
    }
   ],
   "source": [
    "from filecmp import cmp\n",
    "from os import stat\n",
    "from json import load\n",
    "Nin = stat(filename).st_size\n",
    "print(f'Length of original file: {Nin} bytes')\n",
    "Nout = stat(filename + '.cz' + method[0]).st_size\n",
    "print(f'Length of compressed file: {Nout} bytes')\n",
    "print(f'Compression rate: {8.0*Nout/Nin} bits/byte')\n",
    "with open(filename + '.czp', 'r') as fp:\n",
    "    freq = load(fp)\n",
    "pf = dict([(a, freq[a]/Nin) for a in freq])\n",
    "print(f'Entropy: {H(pf)} bits per symbol')\n",
    "if cmp(filename,filename+'.cuz'):\n",
    "    print('The two files are the same')\n",
    "else:\n",
    "    print('The files are different')"
   ]
  },
  {
   "cell_type": "markdown",
   "metadata": {},
   "source": [
    "## Huffman coding"
   ]
  },
  {
   "cell_type": "markdown",
   "metadata": {},
   "source": [
    "This section will only work once you have a working function `huffman()`. We first repeat the tree construction and visualisation."
   ]
  },
  {
   "cell_type": "code",
   "execution_count": 29,
   "metadata": {},
   "outputs": [
    {
     "name": "stdout",
     "output_type": "stream",
     "text": [
      "[[115, [], '\\n'], [131, [], ' '], [80, [], '!'], [67, [], '&'], [93, [], \"'\"], [68, [], '('], [69, [], ')'], [109, [], ','], [82, [], '-'], [97, [], '.'], [86, [], ':'], [87, [], ';'], [83, [], '?'], [100, [], 'A'], [78, [], 'B'], [85, [], 'C'], [86, [], 'D'], [98, [], 'E'], [78, [], 'F'], [84, [], 'G'], [92, [], 'H'], [99, [], 'I'], [67, [], 'J'], [75, [], 'K'], [96, [], 'L'], [88, [], 'M'], [90, [], 'N'], [94, [], 'O'], [81, [], 'P'], [73, [], 'Q'], [91, [], 'R'], [89, [], 'S'], [99, [], 'T'], [89, [], 'U'], [70, [], 'V'], [83, [], 'W'], [74, [], 'Y'], [72, [], 'Z'], [79, [], '['], [79, [], ']'], [121, [], 'a'], [100, [], 'b'], [105, [], 'c'], [113, [], 'd'], [125, [], 'e'], [106, [], 'f'], [103, [], 'g'], [119, [], 'h'], [118, [], 'i'], [74, [], 'j'], [95, [], 'k'], [114, [], 'l'], [111, [], 'm'], [119, [], 'n'], [122, [], 'o'], [101, [], 'p'], [75, [], 'q'], [117, [], 'r'], [120, [], 's'], [123, [], 't'], [112, [], 'u'], [96, [], 'v'], [107, [], 'w'], [76, [], 'x'], [108, [], 'y'], [71, [], 'z'], [71, [], '|'], [68, [3, 22], '67'], [69, [67, 5], '68'], [70, [6, 68], '69'], [72, [34, 69], '70'], [73, [66, 65], '71'], [76, [37, 70], '72'], [77, [29, 71], '73'], [77, [49, 36], '74'], [80, [56, 23], '75'], [81, [72, 63], '76'], [82, [73, 74], '77'], [84, [18, 14], '78'], [85, [38, 39], '79'], [87, [75, 2], '80'], [88, [28, 76], '81'], [90, [77, 8], '82'], [91, [12, 35], '83'], [92, [19, 78], '84'], [93, [15, 79], '85'], [94, [16, 10], '86'], [95, [80, 11], '87'], [97, [25, 81], '88'], [98, [33, 31], '89'], [101, [82, 26], '90'], [102, [83, 30], '91'], [102, [84, 20], '92'], [103, [4, 85], '93'], [104, [86, 27], '94'], [104, [50, 87], '95'], [105, [61, 24], '96'], [106, [88, 9], '97'], [107, [89, 17], '98'], [108, [21, 32], '99'], [109, [41, 13], '100'], [110, [90, 55], '101'], [110, [91, 92], '102'], [111, [93, 46], '103'], [112, [94, 95], '104'], [113, [96, 42], '105'], [114, [45, 97], '106'], [115, [62, 98], '107'], [116, [99, 64], '108'], [116, [100, 7], '109'], [117, [101, 102], '110'], [118, [52, 103], '111'], [120, [60, 104], '112'], [121, [105, 43], '113'], [122, [106, 51], '114'], [123, [107, 0], '115'], [124, [108, 109], '116'], [124, [110, 57], '117'], [125, [48, 111], '118'], [126, [47, 53], '119'], [126, [58, 112], '120'], [127, [40, 113], '121'], [127, [114, 54], '122'], [128, [59, 115], '123'], [128, [116, 117], '124'], [129, [44, 118], '125'], [129, [119, 120], '126'], [130, [121, 122], '127'], [130, [123, 124], '128'], [131, [125, 126], '129'], [132, [127, 128], '130'], [132, [1, 129], '131'], [-1, [130, 131], '132']]\n",
      "((((a,(((v,L)96,c)105,d)113)121,(((f,((M,(P,((Z,(V,(right parenthesis,((&,J)67,left parenthesis)68)69)70)72,x)76)81)88,.)97)106,l)114,o)122)127,((t,((w,((U,S)89,E)98)107,carriage return)115)123,((((I,T)99,y)108,((b,A)100,comma)109)116,(((((((Q,(vertical bar,z)71)73,(j,Y)74)77,-)82,N)90,p)101,(((?,W)83,R)91,((G,(F,B)78)84,H)92)102)110,r)117)124)128)130,(space,((e,(i,(m,((',(C,(left square bracket,right square bracket)79)85)93,g)103)111)118)125,((h,n)119,(s,(u,(((D,colon)86,O)94,(k,(((q,K)75,!)80,semi-colon)87)95)104)112)120)126)129)131)132\n"
     ]
    }
   ],
   "source": [
    "from vl_codes import huffman\n",
    "\n",
    "xt = huffman(p)\n",
    "print(xt)\n",
    "print(xtree2newick(xt))"
   ]
  },
  {
   "cell_type": "code",
   "execution_count": 30,
   "metadata": {},
   "outputs": [
    {
     "data": {
      "text/plain": [
       "{'a': [0], 'b': [1, 1, 1], 'c': [1, 0], 'd': [1, 1, 0]}"
      ]
     },
     "execution_count": 30,
     "metadata": {},
     "output_type": "execute_result"
    }
   ],
   "source": [
    "xtree2code(huffman({'a':.5, 'b':.25, 'c':.25, 'd':0}))"
   ]
  },
  {
   "cell_type": "markdown",
   "metadata": {},
   "source": [
    "Observe how the Huffman tree differs from the Shannon-Fano tree. What are its shortest and its longest codeword? You can use the `camzip` code above changing the method to `'huffman'` to test the compression rate etc. You may also want to do it by hand to test the error resilience:"
   ]
  },
  {
   "cell_type": "code",
   "execution_count": 31,
   "metadata": {},
   "outputs": [
    {
     "name": "stdout",
     "output_type": "stream",
     "text": [
      "        HAMLET\n",
      "\n",
      "\n",
      "        DRAMATIS PERSONAE\n",
      "\n",
      "\n",
      "CLAUDIUS        king of Denmark. (KING CLAUDIUS:)\n",
      "\n",
      "HAMLET  son to the late, and nephew to the present king.\n",
      "\n",
      "POLONIUS        lord chamberlain. (LORD POLONIUS:)\n",
      "\n",
      "HORATIO friend to Hamlet.\n",
      "\n",
      "LAERTES son to Polonius.\n",
      "\n",
      "LUCIANUS        nephew to the king.\n"
     ]
    }
   ],
   "source": [
    "c = xtree2code(xt)\n",
    "hamlet_huf = vl_encode(hamlet, c)\n",
    "hamlet_decoded = vl_decode(hamlet_huf, xt)\n",
    "print(''.join(hamlet_decoded[:294]))"
   ]
  },
  {
   "cell_type": "markdown",
   "metadata": {},
   "source": [
    "We now introduce a random bit flip (bit 400 flipped) in the compressed sequence and observe the result."
   ]
  },
  {
   "cell_type": "code",
   "execution_count": 32,
   "metadata": {},
   "outputs": [
    {
     "name": "stdout",
     "output_type": "stream",
     "text": [
      "        HAMLET\n",
      "\n",
      "\n",
      "        DRAMATIS PERSONAE\n",
      "\n",
      "\n",
      "CLAUDIUS        king of Denmark. y,; \n",
      "aNG CLAUDIUS:)\n",
      "\n",
      "HAMLET  son to the late, and nephew to the present king.\n",
      "\n",
      "POLONIUS        lord chamberlain. (LORD POLONIUS:)\n",
      "\n",
      "HORATIO friend to Hamlet.\n",
      "\n",
      "LAERTES son to Polonius.\n",
      "\n",
      "LUCIANUS        nephew to the king.\n"
     ]
    }
   ],
   "source": [
    "hamlet_corrupted = hamlet_huf.copy()\n",
    "hamlet_corrupted[400] ^= 1\n",
    "hamlet_decoded = vl_decode(hamlet_corrupted, xt)\n",
    "print(''.join(hamlet_decoded[:297]))"
   ]
  },
  {
   "cell_type": "markdown",
   "metadata": {},
   "source": [
    "## Arithmetic coding"
   ]
  },
  {
   "cell_type": "markdown",
   "metadata": {},
   "source": [
    "We first try \"by hand\" to operate the steps of arithmetic coding using floating point numbers. We first compute the cumulative probability distribution."
   ]
  },
  {
   "cell_type": "code",
   "execution_count": 33,
   "metadata": {},
   "outputs": [],
   "source": [
    "f = [0.0]\n",
    "for a in p:\n",
    "    f.append(f[-1]+p[a])\n",
    "f.pop()\n",
    "f = dict([(a,f[k]) for a,k in zip(p,range(len(p)))])"
   ]
  },
  {
   "cell_type": "markdown",
   "metadata": {},
   "source": [
    "We now perform by hand the first `n=4` steps of arithmetic coding. Vary `n` to observe the loss of precision. "
   ]
  },
  {
   "cell_type": "code",
   "execution_count": 34,
   "metadata": {},
   "outputs": [
    {
     "name": "stdout",
     "output_type": "stream",
     "text": [
      "lo = 0.040179412020354126, hi = 0.04017941312428125, hi-lo = 1.1039271233248549e-09\n"
     ]
    }
   ],
   "source": [
    "lo, hi = 0.0, 1.0\n",
    "n = 10\n",
    "for k in range(n):\n",
    "    a = hamlet[k]\n",
    "    lohi_range = hi - lo\n",
    "    hi = lo + lohi_range * (f[a] + p[a])\n",
    "    lo = lo + lohi_range * f[a]\n",
    "print(f'lo = {lo}, hi = {hi}, hi-lo = {hi-lo}')"
   ]
  },
  {
   "cell_type": "markdown",
   "metadata": {},
   "source": [
    "The output sequence is roughly the binary expression of `lo` (not exactly) and we can compute and observe it. What length `ell` would we need when encoding all of Hamlet?"
   ]
  },
  {
   "cell_type": "code",
   "execution_count": 35,
   "metadata": {},
   "outputs": [
    {
     "name": "stdout",
     "output_type": "stream",
     "text": [
      "0b1010010010010011001010101100\n"
     ]
    }
   ],
   "source": [
    "from math import floor, ceil\n",
    "ell = ceil(-log2(hi-lo))+2 if hi-lo > 0.0 else 96\n",
    "print(bin(floor(lo*2**ell)))"
   ]
  },
  {
   "cell_type": "markdown",
   "metadata": {},
   "source": [
    "We encode and decode Hamlet again using arithmetic coding and verify that the first few lines of the play look as expected."
   ]
  },
  {
   "cell_type": "code",
   "execution_count": 39,
   "metadata": {},
   "outputs": [
    {
     "name": "stdout",
     "output_type": "stream",
     "text": [
      "{'\\n': 0, ' ': 0.029197397591758073, '!': 0.3023391728128517, '&': 0.3037930051825985, \"'\": 0.30381715522196306, '(': 0.30848294282719685, ')': 0.30856022295316343, ',': 0.30863750307913, '-': 0.3244895889180299, '.': 0.32652785224039915, ':': 0.3328165224909317, ';': 0.33548268683677956, '?': 0.33829375141881485, 'A': 0.3403609947884215, 'B': 0.34809383739295496, 'C': 0.34926269929819986, 'D': 0.3516052531165626, 'E': 0.35411685721047725, 'F': 0.3612266287994049, 'G': 0.3623471906259207, 'H': 0.36447722409787525, 'I': 0.3690850516086341, 'J': 0.37649911369355527, 'K': 0.37654258376441146, 'L': 0.37718497481150887, 'M': 0.38293751418814803, 'N': 0.3860238892189393, 'O': 0.39009558585580484, 'P': 0.39529750433493194, 'Q': 0.3967754867440433, 'R': 0.39724399750771583, 'S': 0.40159100459333735, 'T': 0.4054067108129385, 'U': 0.4129318630789367, 'V': 0.4161534783301696, 'W': 0.41634667864508607, 'Y': 0.4184718821091677, 'Z': 0.41899352295944225, '[': 0.41933162351054615, ']': 0.4205149754394098, 'a': 0.42169832736827345, 'b': 0.4639753862798795, 'c': 0.47161162872695467, 'd': 0.4831650075589622, 'e': 0.506778916049633, 'f': 0.5767367500809024, 'g': 0.5888021097474386, 'h': 0.5988050560522411, 'i': 0.636160336941349, 'j': 0.6721149155473121, 'k': 0.6726027463424763, 'l': 0.6780751452624866, 'm': 0.7039881375006639, 'n': 0.7215838561816854, 'o': 0.7592675776061514, 'p': 0.809712179830853, 'q': 0.8180294533880089, 'r': 0.8186283743642501, 's': 0.8537570216239451, 't': 0.8921749042450937, 'u': 0.945237370736914, 'v': 0.9650114229686192, 'w': 0.9707591323373854, 'x': 0.9837083834446647, 'y': 0.9845632948381703, 'z': 0.9995218292205813, '|': 0.9997681596220999}\n",
      "\n",
      "        HAMLET\n",
      "\n",
      "\n",
      "        DRAMATIS PERSONAE\n",
      "\n",
      "\n",
      "CLAUDIUS        king of Denmark. (KING CLAUDIUS:)\n",
      "\n",
      "HAMLET  son to the late, and nephew to the present king.\n",
      "\n",
      "POLONIUS        lord chamberlain. (LORD POLONIUS:)\n",
      "\n",
      "HORATIO friend to Hamlet.\n",
      "\n",
      "LAERTES son to Polonius.\n",
      "\n",
      "LUCIANUS        nephew to the king.\n",
      "\n",
      "\n",
      "VOLTIMAND       |\n",
      "        |\n",
      "CORNELIUS       |\n",
      "        |\n",
      "ROSENCRANTZ     |  courtiers.\n",
      "        |\n",
      "GUILDENSTERN    |\n",
      "        |\n",
      "OSRIC   |\n",
      "\n",
      "\n",
      "        A Gentleman, (Gentlemen:)\n",
      "\n",
      "        A Priest. (First Priest:)\n",
      "\n",
      "\n",
      "MARCELLUS       |\n",
      "        |  officers.\n",
      "BERNARDO        |\n",
      "\n",
      "\n",
      "FRANCISCO       a soldier.\n",
      "\n",
      "REYNALDO        servant to Polonius.\n",
      "        Players.\n",
      "        (First Player:)\n",
      "        (Player King:)\n",
      "        (Player Queen:)\n",
      "\n",
      "        Two Clowns, grave-diggers.\n",
      "        (First Clown:)\n",
      "        (Second Clown:)\n",
      "\n",
      "FORTINBRAS      prince of Norway. (PRINCE FORTINBRAS:)\n",
      "\n",
      "        A Captain.\n",
      "\n",
      "        English Ambassadors. (First Ambassador:)\n",
      "\n",
      "GERTRUDE        queen of Denmark, and mother to Hamlet.\n",
      "        (QUEEN GER\n"
     ]
    }
   ],
   "source": [
    "import arithmetic as arith\n",
    "arith_encoded = arith.encode(hamlet, p)\n",
    "arith_decoded = arith.decode(arith_encoded, p, Nin)\n",
    "print('\\n'+''.join(arith_decoded[:1000]))"
   ]
  },
  {
   "cell_type": "markdown",
   "metadata": {},
   "source": [
    "We now repeat the steps above but introduce a one bit mistake (bit 399 flipped) and observe the effect on the decoded text. Repeat this experiment varying the location of the mistake or adding more than one mistake. What do you observe? Can you explain why?"
   ]
  },
  {
   "cell_type": "code",
   "execution_count": 50,
   "metadata": {},
   "outputs": [
    {
     "name": "stdout",
     "output_type": "stream",
     "text": [
      "\n",
      "        HAMLET\n",
      "\n",
      "\n",
      "        DRAMATIS PERSONAE\n",
      "\n",
      "\n",
      "CLAUDIUS        kisea \n",
      "rethre yO o A, nraesnslEf c\n",
      "li\n",
      "M,\n",
      "eDsfnttma iri o csexllinH  n sOeah,u t-  tsreUs hthc. ;ab Iuity gs dntkie  dl,  id bo' daeG n m  h e sse   a\n",
      "xooose Eoe\n",
      "o nneLe hets  ]siseqsee\n",
      "  eiodNc ,hmt o   h\n",
      "a ;ldnmhk tka  e  ,  e\n",
      "egi, \n"
     ]
    }
   ],
   "source": [
    "arith_corrupted = arith_encoded.copy()\n",
    "\n",
    "\n",
    "\n",
    "arith_corrupted[323] ^= 1\n",
    "arith_decoded = arith.decode(arith_corrupted, p, Nin)\n",
    "print('\\n'+''.join(arith_decoded[:294]))"
   ]
  },
  {
   "cell_type": "code",
   "execution_count": 38,
   "metadata": {},
   "outputs": [
    {
     "data": {
      "text/plain": [
       "'(((5,6)3,(7)4)1,(8)2)0'"
      ]
     },
     "execution_count": 38,
     "metadata": {},
     "output_type": "execute_result"
    }
   ],
   "source": [
    "xtree2newick(tree2xtree([-1,0,0,1,1,3,3,4,2]),[str(chr(a+ord('0'))) for a in range(9)])"
   ]
  },
  {
   "cell_type": "code",
   "execution_count": null,
   "metadata": {},
   "outputs": [],
   "source": []
  }
 ],
 "metadata": {
  "interpreter": {
   "hash": "91fde0eb7312828b96b979ba591294ea4b73fe71adfc16e67d41877f70c43091"
  },
  "kernelspec": {
   "display_name": "Python 3.7.4 64-bit ('base': conda)",
   "name": "python3"
  },
  "language_info": {
   "codemirror_mode": {
    "name": "ipython",
    "version": 3
   },
   "file_extension": ".py",
   "mimetype": "text/x-python",
   "name": "python",
   "nbconvert_exporter": "python",
   "pygments_lexer": "ipython3",
   "version": "3.7.4"
  }
 },
 "nbformat": 4,
 "nbformat_minor": 2
}
